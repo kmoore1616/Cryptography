{
 "cells": [
  {
   "cell_type": "code",
   "execution_count": 12,
   "id": "c4bbc987",
   "metadata": {},
   "outputs": [
    {
     "name": "stdout",
     "output_type": "stream",
     "text": [
      "[8, 22, 21, 11, 22, 4]\n"
     ]
    }
   ],
   "source": [
    "#Char to num\n",
    "cipher = \"iwvlwe\"\n",
    "cipher.lower()\n",
    "cipher = list(cipher)\n",
    "for i in range(len(cipher)):\n",
    "    cipher[i] = ord(cipher[i])-97\n",
    "print(cipher)\n",
    "\n",
    "\"\"\"\n",
    "[ 4 13  9]\n",
    "[14 24 19]\n",
    "[ 7  4 22]\n",
    "[ 4  4 10]\n",
    "[ 4 13  3]\n",
    "\"\"\""
   ]
  },
  {
   "cell_type": "code",
   "execution_count": 60,
   "id": "c26e6569",
   "metadata": {},
   "outputs": [
    {
     "name": "stdout",
     "output_type": "stream",
     "text": [
      "enjoytheweekend"
     ]
    }
   ],
   "source": [
    "#Num to char\n",
    "num = [4,13,9,14,24,19,7,4,22,4,4,10,4,13,3]\n",
    "for i in num:\n",
    "    print(chr(i+97), end=\"\")"
   ]
  },
  {
   "cell_type": "code",
   "execution_count": 1,
   "id": "0cbba414",
   "metadata": {},
   "outputs": [
    {
     "name": "stdout",
     "output_type": "stream",
     "text": [
      "[1, 0, 1, 0, 1, 4, 1, 3, 3, 3, 3, 1]\n"
     ]
    }
   ],
   "source": [
    "def convert_to_base(n, base):\n",
    "    rem = []\n",
    "    while n != 0:\n",
    "        quotient = floor(n/base)\n",
    "        \n",
    "        rem.append(n-quotient*base)\n",
    "        n = quotient\n",
    "    rem.reverse()\n",
    "    print(rem)\n",
    "    \n",
    "\n",
    "convert_to_base(50927341, 5)\n",
    "\n"
   ]
  },
  {
   "cell_type": "code",
   "execution_count": 2,
   "id": "67a37d1e",
   "metadata": {},
   "outputs": [
    {
     "name": "stdout",
     "output_type": "stream",
     "text": [
      "41 0\n"
     ]
    },
    {
     "data": {
      "text/plain": [
       "'1010010001'"
      ]
     },
     "execution_count": 2,
     "metadata": {},
     "output_type": "execute_result"
    }
   ],
   "source": [
    "n = 82\n",
    "\n",
    "print(floor(n/2), n-floor(n/2)*2)\n",
    "657.str(2)"
   ]
  },
  {
   "cell_type": "code",
   "execution_count": 3,
   "id": "761bb7e1",
   "metadata": {},
   "outputs": [
    {
     "name": "stdout",
     "output_type": "stream",
     "text": [
      "0 0\n",
      "1 7\n",
      "2 14\n",
      "3 21\n",
      "4 2\n",
      "5 9\n",
      "6 16\n",
      "7 23\n",
      "8 4\n",
      "9 11\n",
      "10 18\n",
      "11 25\n",
      "12 6\n",
      "13 13\n",
      "14 20\n",
      "15 1 ** HERE! **\n"
     ]
    }
   ],
   "source": [
    "n = 7\n",
    "modu = 26\n",
    "s = 24\n",
    "for i in range(100):\n",
    "    if (i*n)%modu == 1:\n",
    "        print(i,(i*n)%modu, \"** HERE! **\")\n",
    "        k = i\n",
    "        break\n",
    "    print(i,(i*n)%modu)"
   ]
  },
  {
   "cell_type": "code",
   "execution_count": 4,
   "id": "0e9d6b88",
   "metadata": {},
   "outputs": [
    {
     "name": "stdout",
     "output_type": "stream",
     "text": [
      "['r', 'n']\n",
      "[17, 13]\n",
      "(25, 'z')\n",
      "(17, 'r')\n"
     ]
    }
   ],
   "source": [
    "modu = modu\n",
    "k = k\n",
    "s = s\n",
    "cipher = \"RN\"\n",
    "cipher = cipher.lower()\n",
    "cipher = list(cipher)\n",
    "print(cipher)\n",
    "for i in range(len(cipher)):\n",
    "    cipher[i] = ord(cipher[i])-97\n",
    "print(cipher)\n",
    "res = []\n",
    "for c in cipher:\n",
    "    print((k*(c-s)%modu, chr(((k*(c-s)) % modu) + 97)))"
   ]
  },
  {
   "cell_type": "code",
   "execution_count": 5,
   "id": "7cb05222",
   "metadata": {},
   "outputs": [
    {
     "data": {
      "text/plain": [
       "[19]\n",
       "[12]"
      ]
     },
     "execution_count": 5,
     "metadata": {},
     "output_type": "execute_result"
    }
   ],
   "source": [
    "guess1 = 10 # Enter num (guess) here to find K (Shift).\n",
    "guess2 = 9\n",
    " \n",
    "A=matrix(IntegerModRing(26), [[4,1],[19,1]])\n",
    "B=matrix(IntegerModRing(26), [[guess1], [guess2]]) \n",
    "A^(-1)*B"
   ]
  },
  {
   "cell_type": "code",
   "execution_count": 11,
   "id": "0dbf29f9",
   "metadata": {},
   "outputs": [
    {
     "name": "stdout",
     "output_type": "stream",
     "text": [
      "Decryption matrix:\n"
     ]
    },
    {
     "data": {
      "text/plain": [
       "[ 3 25]\n",
       "[21  2]"
      ]
     },
     "execution_count": 11,
     "metadata": {},
     "output_type": "execute_result"
    }
   ],
   "source": [
    "#[w,x] Enter in encrypt block matrix and get decrypt block matrix\n",
    "#[y,z] \n",
    "print(\"Decryption matrix:\")\n",
    "dec_max = matrix(IntegerModRing(26), [[2,1],[5,3]])^(-1)"
   ]
  },
  {
   "cell_type": "code",
   "execution_count": 8,
   "id": "caac854d",
   "metadata": {},
   "outputs": [],
   "source": [
    "e=matrix(IntegerModRing(26),[[11, 3], [9,4]])\n",
    "m=matrix(IntegerModRing(26),[[5, 17], [8,3], [0,24]]) # Message letters"
   ]
  },
  {
   "cell_type": "code",
   "execution_count": 75,
   "id": "4c4c6839",
   "metadata": {},
   "outputs": [
    {
     "name": "stdout",
     "output_type": "stream",
     "text": [
      "Encryption matrix: [[22, 5, 1], [6, 17, 24], [15, 13, 1]]\n",
      "15 3\n",
      "Message matrix [[25, 24, 6], [7, 7, 0], [5, 24, 13], [0, 14, 12], [11, 22, 10]]\n",
      "\n",
      "Decryption matrix:\n",
      "[ 1  2  3]\n",
      "[ 4  5  6]\n",
      "[11  9  8]\n",
      "\n",
      "Encrypted Message\n",
      "[ 4 13  9]\n",
      "[14 24 19]\n",
      "[ 7  4 22]\n",
      "[ 4  4 10]\n",
      "[ 4 13  3]\n",
      "\n",
      "Decrypted Message\n",
      "[ 5 16  7]\n",
      "[ 9 23 11]\n",
      "[10 13  3]\n",
      "[ 6 22 24]\n",
      "[ 1 14 11]\n",
      "Encrypted Message (Note if decryption matrix is entered, this will be the decryption)\n",
      "[4, 13, 9, 14, 24, 19, 7, 4, 22, 4, 4, 10, 4, 13, 3]\n",
      "e n j o y t h e w e e k e n d \n",
      "\n",
      "Decrypted Message (Note if decryption matrix is entered, this will be garbage)\n",
      "[5, 16, 7, 9, 23, 11, 10, 13, 3, 6, 22, 24, 1, 14, 11]\n",
      "f q h j x l k n d g w y b o l "
     ]
    }
   ],
   "source": [
    "## Enter in encryption matrix and message to get encrypted message and decryption matrix\n",
    "\n",
    "# User Input HERE \n",
    "cipher = \"zyghhafynaomlwk\"\n",
    "e = [22, 5, 1, 6, 17, 24, 15, 13, 1] # Enter matrix in sequentially tl to br\n",
    "\n",
    "# Code\n",
    "enc_max = []\n",
    "dec_max = []\n",
    "mes_max = []\n",
    "temp = []\n",
    "message = []\n",
    "deg = sqrt(len(e))\n",
    "\n",
    "#Convert array to matrix\n",
    "for row in range(0, deg):\n",
    "    temp = []\n",
    "    for col in range(deg):\n",
    "        temp.append(e[deg*row+col])\n",
    "    enc_max.append(temp)\n",
    "print(\"Encryption matrix:\", enc_max)\n",
    "#Convert alpha to nums\n",
    "cipher.lower()\n",
    "cipher = list(cipher)\n",
    "for i in range(len(cipher)):\n",
    "    cipher[i] = ord(cipher[i])-97\n",
    "\n",
    "print(len(cipher), deg)\n",
    "for row in range(len(cipher)/deg):\n",
    "    temp = []\n",
    "    for col in range(deg):\n",
    "        temp.append(cipher[deg*row+col])\n",
    "    mes_max.append(temp)\n",
    "    \n",
    "print(\"Message matrix\", mes_max)\n",
    "        \n",
    "print()\n",
    "print(\"Decryption matrix:\")\n",
    "dec_max = matrix(IntegerModRing(26), enc_max)^(-1)\n",
    "print(dec_max)\n",
    "\n",
    "print()\n",
    "\n",
    "print(\"Encrypted Message\")\n",
    "e=matrix(IntegerModRing(26), enc_max)\n",
    "c=matrix(IntegerModRing(26),mes_max) # Message letters\n",
    "\n",
    "print(c*e)\n",
    "print()\n",
    "print(\"Decrypted Message\")\n",
    "d=matrix(IntegerModRing(26), dec_max)\n",
    "\n",
    "print(c*d)\n",
    "\n",
    "# Extract the encrypted message matrix as a list\n",
    "encrypted_list = [num for row in (c * e) for num in row]\n",
    "print(\"Encrypted Message (Note if decryption matrix is entered, this will be the decryption)\")\n",
    "print(encrypted_list)\n",
    "for i in encrypted_list:\n",
    "    print(chr(int(i)+97), end=\" \")\n",
    "\n",
    "print(\"\\n\")\n",
    "# Extract the decrypted message matrix as a list\n",
    "decrypted_list = [num for row in (c * d) for num in row]\n",
    "print(\"Decrypted Message (Note if decryption matrix is entered, this will be garbage)\")\n",
    "print(decrypted_list)\n",
    "for i in decrypted_list:\n",
    "    print(chr(int(i)+97), end=\" \")\n"
   ]
  },
  {
   "cell_type": "code",
   "execution_count": 13,
   "id": "7a81c424",
   "metadata": {},
   "outputs": [
    {
     "data": {
      "text/plain": [
       "5429503678976"
      ]
     },
     "execution_count": 13,
     "metadata": {},
     "output_type": "execute_result"
    }
   ],
   "source": [
    "26^9"
   ]
  },
  {
   "cell_type": "code",
   "execution_count": 14,
   "id": "faa6bc40",
   "metadata": {},
   "outputs": [
    {
     "name": "stdout",
     "output_type": "stream",
     "text": [
      "[18 10]\n",
      "[ 8  1]\n",
      "[20 12]\n"
     ]
    }
   ],
   "source": [
    "c=matrix(IntegerModRing(26),[[25, 24, 6], ) # Message letters\n",
    "d=matrix(IntegerModRing(26), [[22,5,1],[6,17,24], [15,13,1]])\n",
    "print(c*d)"
   ]
  },
  {
   "cell_type": "code",
   "execution_count": null,
   "id": "ea81904d",
   "metadata": {},
   "outputs": [],
   "source": []
  }
 ],
 "metadata": {
  "kernelspec": {
   "display_name": "SageMath 9.5",
   "language": "sage",
   "name": "sagemath"
  },
  "language_info": {
   "codemirror_mode": {
    "name": "ipython",
    "version": 3
   },
   "file_extension": ".py",
   "mimetype": "text/x-python",
   "name": "python",
   "nbconvert_exporter": "python",
   "pygments_lexer": "ipython3",
   "version": "3.10.12"
  }
 },
 "nbformat": 4,
 "nbformat_minor": 5
}
