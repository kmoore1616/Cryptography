{
 "cells": [
  {
   "cell_type": "code",
   "execution_count": 2,
   "id": "c4bbc987",
   "metadata": {},
   "outputs": [
    {
     "name": "stdout",
     "output_type": "stream",
     "text": [
      "[4, 19, 18, 3]\n"
     ]
    },
    {
     "data": {
      "text/plain": [
       "'\\n15 17  0]\\n[24  5 14]\\n[17 18 13]\\n[14 22 25]\\n'"
      ]
     },
     "execution_count": 2,
     "metadata": {},
     "output_type": "execute_result"
    }
   ],
   "source": [
    "#Char to num\n",
    "cipher = \"etsd\"\n",
    "cipher.lower()\n",
    "cipher = list(cipher)\n",
    "for i in range(len(cipher)):\n",
    "    cipher[i] = ord(cipher[i])-97\n",
    "print(cipher)\n",
    "'''\n",
    "15 17  0]\n",
    "[24  5 14]\n",
    "[17 18 13]\n",
    "[14 22 25]\n",
    "'''"
   ]
  },
  {
   "cell_type": "code",
   "execution_count": 30,
   "id": "c26e6569",
   "metadata": {},
   "outputs": [
    {
     "name": "stdout",
     "output_type": "stream",
     "text": [
      "vw"
     ]
    }
   ],
   "source": [
    "#Num to char\n",
    "num = [21, 22]\n",
    "for i in num:\n",
    "    print(chr(i+97), end=\"\")"
   ]
  },
  {
   "cell_type": "code",
   "execution_count": 16,
   "id": "0cbba414",
   "metadata": {},
   "outputs": [
    {
     "name": "stdout",
     "output_type": "stream",
     "text": [
      "[1, 1, 1]\n"
     ]
    }
   ],
   "source": [
    "def convert_to_base(n, base):\n",
    "    rem = []\n",
    "    while n != 0:\n",
    "        quotient = floor(n/base)\n",
    "        \n",
    "        rem.append(n-quotient*base)\n",
    "        n = quotient\n",
    "    rem.reverse()\n",
    "    print(rem)\n",
    "    \n",
    "\n",
    "convert_to_base(7, 2)\n",
    "\n"
   ]
  },
  {
   "cell_type": "code",
   "execution_count": 2,
   "id": "67a37d1e",
   "metadata": {},
   "outputs": [
    {
     "name": "stdout",
     "output_type": "stream",
     "text": [
      "41 0\n"
     ]
    },
    {
     "data": {
      "text/plain": [
       "'1010010001'"
      ]
     },
     "execution_count": 2,
     "metadata": {},
     "output_type": "execute_result"
    }
   ],
   "source": [
    "n = 82\n",
    "\n",
    "print(floor(n/2), n-floor(n/2)*2)\n",
    "657.str(2)\n"
   ]
  },
  {
   "cell_type": "code",
   "execution_count": 26,
   "id": "761bb7e1",
   "metadata": {},
   "outputs": [
    {
     "name": "stdout",
     "output_type": "stream",
     "text": [
      "0 0\n",
      "1 95\n",
      "2 64\n",
      "3 33\n",
      "4 2\n",
      "5 97\n",
      "6 66\n",
      "7 35\n",
      "8 4\n",
      "9 99\n",
      "10 68\n",
      "11 37\n",
      "12 6\n",
      "13 101\n",
      "14 70\n",
      "15 39\n",
      "16 8\n",
      "17 103\n",
      "18 72\n",
      "19 41\n",
      "20 10\n",
      "21 105\n",
      "22 74\n",
      "23 43\n",
      "24 12\n",
      "25 107\n",
      "26 76\n",
      "27 45\n",
      "28 14\n",
      "29 109\n",
      "30 78\n",
      "31 47\n",
      "32 16\n",
      "33 111\n",
      "34 80\n",
      "35 49\n",
      "36 18\n",
      "37 113\n",
      "38 82\n",
      "39 51\n",
      "40 20\n",
      "41 115\n",
      "42 84\n",
      "43 53\n",
      "44 22\n",
      "45 117\n",
      "46 86\n",
      "47 55\n",
      "48 24\n",
      "49 119\n",
      "50 88\n",
      "51 57\n",
      "52 26\n",
      "53 121\n",
      "54 90\n",
      "55 59\n",
      "56 28\n",
      "57 123\n",
      "58 92\n",
      "59 61\n",
      "60 30\n",
      "61 125\n",
      "62 94\n",
      "63 63\n",
      "64 32\n",
      "65 1 ** HERE! **\n"
     ]
    }
   ],
   "source": [
    "n = 95\n",
    "modu = 126\n",
    "s = 24\n",
    "for i in range(100):\n",
    "    if (i*n)%modu == 1:\n",
    "        print(i,(i*n)%modu, \"** HERE! **\")\n",
    "        k = i\n",
    "        break\n",
    "    print(i,(i*n)%modu)"
   ]
  },
  {
   "cell_type": "code",
   "execution_count": 6,
   "id": "0e9d6b88",
   "metadata": {},
   "outputs": [
    {
     "name": "stdout",
     "output_type": "stream",
     "text": [
      "['r', 'n']\n",
      "[17, 13]\n",
      "(25, 'z')\n",
      "(17, 'r')\n"
     ]
    }
   ],
   "source": [
    "modu = modu\n",
    "k = k\n",
    "s = s\n",
    "cipher = \"RN\"\n",
    "cipher = cipher.lower()\n",
    "cipher = list(cipher)\n",
    "print(cipher)\n",
    "for i in range(len(cipher)):\n",
    "    cipher[i] = ord(cipher[i])-97\n",
    "print(cipher)\n",
    "res = []\n",
    "for c in cipher:\n",
    "    print((k*(c-s)%modu, chr(((k*(c-s)) % modu) + 97)))"
   ]
  },
  {
   "cell_type": "code",
   "execution_count": 3,
   "id": "4c4c6839",
   "metadata": {},
   "outputs": [
    {
     "name": "stdout",
     "output_type": "stream",
     "text": [
      "Encryption matrix: [[10, 7], [3, 5]]\n",
      "Message matrix [[6, 10], [23, 17]]\n",
      "\n",
      "Decryption matrix:\n",
      "[19 15]\n",
      "[25 12]\n",
      "\n",
      "Encrypted Message\n",
      "[12 14]\n",
      "[21 12]\n",
      "\n",
      "Decrypted Message [19 15]\n",
      "[25 12]\n",
      "[0 2]\n",
      "[4 3]\n",
      "Encrypted Message (Note if decryption matrix is entered, this will be the decryption)\n",
      "[12, 14, 21, 12]\n",
      "movm\n",
      "\n",
      "Decrypted Message (Note if decryption matrix is entered, this will be garbage)\n",
      "[0, 2, 4, 3]\n",
      "aced"
     ]
    }
   ],
   "source": [
    "## Enter in encryption matrix and message to get encrypted message and decryption matrix\n",
    "\n",
    "# User Input HERE \n",
    "cipher = [6,10,23,17] # Message to be encoded/decoded. Enter in either the string or the list of numbers\n",
    "start_max = [10,7,3,5] # Enter matrix in sequentially tl to br\n",
    "modu = 26 # Enter what the modulus you are working in\n",
    "\n",
    "\n",
    "# Code\n",
    "enc_max = [] # Encoding matrix. Built from user input e\n",
    "dec_max = [] # Decoding matrix. Built from inverse of enc_max\n",
    "mes_max = [] # Message matrix. Resulting matrix containing encoded/decoded results\n",
    "temp = [] # Used to build encoding and decoding matracies\n",
    "deg = sqrt(len(start_max)) # \"Degree\" of matrix. A 3x3 matrix will return 3\n",
    "\n",
    "#Convert array to matrix\n",
    "for row in range(0, deg):\n",
    "    temp = []\n",
    "    for col in range(deg):\n",
    "        temp.append(start_max[deg*row+col])\n",
    "    enc_max.append(temp)\n",
    "print(\"Encryption matrix:\", enc_max)\n",
    "\n",
    "#Convert alpha to nums\n",
    "try: \n",
    "    cipher.lower()\n",
    "    cipher = list(cipher)\n",
    "    for i in range(len(cipher)):\n",
    "        cipher[i] = ord(cipher[i])-97\n",
    "except:\n",
    "    pass\n",
    "# Build message matrix\n",
    "for row in range(len(cipher)/deg):\n",
    "    temp = []\n",
    "    for col in range(deg):\n",
    "        temp.append(cipher[deg*row+col])\n",
    "    mes_max.append(temp)\n",
    "    \n",
    "print(\"Message matrix\", mes_max)\n",
    "        \n",
    "print()\n",
    "print(\"Decryption matrix:\")\n",
    "dec_max = matrix(IntegerModRing(modu), enc_max)^(-1)\n",
    "print(dec_max)\n",
    "print()\n",
    "\n",
    "print(\"Encrypted Message\")\n",
    "e=matrix(IntegerModRing(modu), enc_max)\n",
    "c=matrix(IntegerModRing(modu),mes_max)\n",
    "\n",
    "print(c*e)\n",
    "print()\n",
    "print(\"Decrypted Message\", dec_max)\n",
    "d=matrix(IntegerModRing(modu), dec_max)\n",
    "\n",
    "print(c*d)\n",
    "\n",
    "# Extract the encrypted message matrix as a list\n",
    "encrypted_list = [num for row in (c * e) for num in row]\n",
    "print(\"Encrypted Message (Note if decryption matrix is entered, this will be the decryption)\")\n",
    "print(encrypted_list)\n",
    "for i in encrypted_list:\n",
    "    print(chr(int(i)+97), end=\"\")\n",
    "\n",
    "print(\"\\n\")\n",
    "# Extract the decrypted message matrix as a list\n",
    "decrypted_list = [num for row in (c * d) for num in row]\n",
    "print(\"Decrypted Message (Note if decryption matrix is entered, this will be garbage)\")\n",
    "print(decrypted_list)\n",
    "for i in decrypted_list:\n",
    "    print(chr(int(i)+97), end=\"\")\n"
   ]
  },
  {
   "cell_type": "code",
   "execution_count": 28,
   "id": "a7ea4685",
   "metadata": {},
   "outputs": [
    {
     "ename": "ModuleNotFoundError",
     "evalue": "No module named 'pandas'",
     "output_type": "error",
     "traceback": [
      "\u001b[0;31m---------------------------------------------------------------------------\u001b[0m",
      "\u001b[0;31mModuleNotFoundError\u001b[0m                       Traceback (most recent call last)",
      "Cell \u001b[0;32mIn[28], line 1\u001b[0m\n\u001b[0;32m----> 1\u001b[0m \u001b[38;5;28;01mimport\u001b[39;00m\u001b[38;5;250m \u001b[39m\u001b[38;5;21;01mpandas\u001b[39;00m\u001b[38;5;250m \u001b[39m\u001b[38;5;28;01mas\u001b[39;00m\u001b[38;5;250m \u001b[39m\u001b[38;5;21;01mpd\u001b[39;00m\n\u001b[1;32m      2\u001b[0m \u001b[38;5;66;03m#import numpy\u001b[39;00m\n\u001b[1;32m      3\u001b[0m \u001b[38;5;28;01mimport\u001b[39;00m\u001b[38;5;250m \u001b[39m\u001b[38;5;21;01mtime\u001b[39;00m\n",
      "\u001b[0;31mModuleNotFoundError\u001b[0m: No module named 'pandas'"
     ]
    }
   ],
   "source": [
    "import pandas as pd\n",
    "#import numpy\n",
    "import time\n",
    "# Brute force block cipher breaker(2x2)!\n",
    "def block(matri):\n",
    "    ## Enter in encryption matrix and message to get encrypted message and decryption matrix\n",
    "    # User Input HERE \n",
    "    cipher = \"NARTPXRH\" # Message to be encoded/decoded. Enter in either the string or the list of numbers\n",
    "    start_max = matri # Enter matrix in sequentially tl to br\n",
    "    modu = 26 # Enter what the modulus you are working in\n",
    "\n",
    "    # Code\n",
    "    enc_max = [] # Encoding matrix. Built from user input e\n",
    "    dec_max = [] # Decoding matrix. Built from inverse of enc_max\n",
    "    mes_max = [] # Message matrix. Resulting matrix containing encoded/decoded results\n",
    "    temp = [] # Used to build encoding and decoding matracies\n",
    "    deg = sqrt(len(start_max)) # \"Degree\" of matrix. A 3x3 matrix will return 3\n",
    "\n",
    "    #Convert array to matrix\n",
    "    for row in range(0, deg):\n",
    "        temp = []\n",
    "        for col in range(deg):\n",
    "            temp.append(start_max[deg*row+col])\n",
    "        enc_max.append(temp)\n",
    "    #print(\"Encryption matrix:\", enc_max)\n",
    "\n",
    "    #Convert alpha to nums\n",
    "    try: \n",
    "        cipher.lower()\n",
    "        cipher = list(cipher)\n",
    "        for i in range(len(cipher)):\n",
    "            cipher[i] = ord(cipher[i])-97\n",
    "    except:\n",
    "        pass\n",
    "    # Build message matrix\n",
    "    for row in range(len(cipher)/deg):\n",
    "        temp = []\n",
    "        for col in range(deg):\n",
    "            temp.append(cipher[deg*row+col])\n",
    "        mes_max.append(temp)\n",
    "\n",
    "    #print(\"Message matrix\", mes_max)\n",
    "\n",
    "    #print()\n",
    "    #print(\"Decryption matrix:\")\n",
    "    dec_max = matrix(IntegerModRing(modu), enc_max)^(-1)\n",
    "    #print(dec_max)\n",
    "    #print()\n",
    "\n",
    "    #print(\"Encrypted Message\")\n",
    "    e=matrix(IntegerModRing(modu), enc_max)\n",
    "    c=matrix(IntegerModRing(modu),mes_max)\n",
    "\n",
    "    #print(c*e)\n",
    "    #print()\n",
    "    #print(\"Decrypted Message\", dec_max)\n",
    "    d=matrix(IntegerModRing(modu), dec_max)\n",
    "\n",
    "    #print(c*d)\n",
    "\n",
    "    # Extract the encrypted message matrix as a list\n",
    "    encrypted_list = [num for row in (c * e) for num in row]\n",
    "    #print(\"Encrypted Message (Note if decryption matrix is entered, this will be the decryption)\")\n",
    "    #print(encrypted_list)\n",
    "    #for i in encrypted_list:\n",
    "    #    print(chr(int(i)+97), end=\"\")\n",
    "\n",
    "    #print(\"\\n\")\n",
    "    # Extract the decrypted message matrix as a list\n",
    "    decrypted_list = [num for row in (c * d) for num in row]\n",
    "    #print(\"Decrypted Message (Note if decryption matrix is entered, this will be garbage)\")\n",
    "    #print(decrypted_list)\n",
    "    output = []\n",
    "    for i in decrypted_list:\n",
    "        #print(chr(int(i)+97), end=\"\")\n",
    "        output.append(chr(int(i)+97))\n",
    "    return(output)\n",
    "   \n",
    "    \n",
    "\n",
    "# Storage for results\n",
    "data = []\n",
    "count = 0\n",
    "miss = 0\n",
    "\n",
    "# Try all possible matrices and store successful ones\n",
    "start = time.time()\n",
    "for first in range(25):\n",
    "    for second in range(25):\n",
    "        for third in range(25):\n",
    "            for fourth in range(25):\n",
    "                try:\n",
    "                    decrypted_text = block([first, second, third, fourth])\n",
    "                    data.append({\n",
    "                        \"Matrix\": f\"[{first}, {second}, {third}, {fourth}]\",\n",
    "                        \"Decrypted Text\": \"\".join(decrypted_text)\n",
    "                    })\n",
    "                    count += 1\n",
    "                except:\n",
    "                    miss += 1\n",
    "\n",
    "print(\"Successful attempts:\", count)\n",
    "print(\"Misses due to non-invertible matrices:\", miss)\n",
    "print(\"In\", time.time()-start, \"seconds\")\n",
    "\n",
    "df = pd.DataFrame(data)\n",
    "\n",
    "# Save to CSV file\n",
    "df.to_csv(\"brute_force_results.csv\", index=False)\n"
   ]
  },
  {
   "cell_type": "code",
   "execution_count": 38,
   "id": "efc14147-4fae-486b-a79a-b425e74593a0",
   "metadata": {},
   "outputs": [
    {
     "data": {
      "text/plain": [
       "1"
      ]
     },
     "execution_count": 38,
     "metadata": {},
     "output_type": "execute_result"
    }
   ],
   "source": [
    "gcd(37, 7841)"
   ]
  },
  {
   "cell_type": "code",
   "execution_count": 39,
   "id": "f6de1c8a-fe98-4bd2-97d6-003c79aaba3e",
   "metadata": {},
   "outputs": [
    {
     "data": {
      "text/plain": [
       "32091"
      ]
     },
     "execution_count": 39,
     "metadata": {},
     "output_type": "execute_result"
    }
   ],
   "source": [
    "1/883 % 32608"
   ]
  },
  {
   "cell_type": "code",
   "execution_count": 44,
   "id": "21f73621-9392-44ba-b07a-883a49e7d0e9",
   "metadata": {},
   "outputs": [
    {
     "name": "stdout",
     "output_type": "stream",
     "text": [
      "[4, 15, 20]\n"
     ]
    }
   ],
   "source": [
    "#Char to num (Exponential cipher version!!!)\n",
    "cipher = \"dot\"\n",
    "cipher.lower()\n",
    "cipher = list(cipher)\n",
    "for i in range(len(cipher)):\n",
    "    cipher[i] = ord(cipher[i])-96\n",
    "print(cipher)\n"
   ]
  },
  {
   "cell_type": "code",
   "execution_count": 31,
   "id": "21a8fc82-98bb-455b-af69-44873e586f1a",
   "metadata": {},
   "outputs": [
    {
     "name": "stdout",
     "output_type": "stream",
     "text": [
      "v"
     ]
    }
   ],
   "source": [
    "#Num to char (Exponential cipher version!!!)\n",
    "num = [22]\n",
    "for i in num:\n",
    "    print(chr(i+96), end=\"\")"
   ]
  },
  {
   "cell_type": "code",
   "execution_count": 53,
   "id": "30344480-083d-43d2-a3f6-1612aed993cf",
   "metadata": {},
   "outputs": [
    {
     "data": {
      "text/plain": [
       "100113"
      ]
     },
     "execution_count": 53,
     "metadata": {},
     "output_type": "execute_result"
    }
   ],
   "source": [
    "1792548^2283321 % 5023307"
   ]
  },
  {
   "cell_type": "code",
   "execution_count": 35,
   "id": "739d764d-041b-4a09-85d8-e265887e8338",
   "metadata": {},
   "outputs": [
    {
     "name": "stdout",
     "output_type": "stream",
     "text": [
      "D: 14257\n",
      "ENC\n",
      "13435\n",
      "DEC\n",
      "11101\n"
     ]
    }
   ],
   "source": [
    "def expo_cif(nums, e, p):\n",
    "    \n",
    "    d=mod(1/e, p-1)\n",
    "    print(\"D:\",d)\n",
    "    for i in nums:\n",
    "        print(\"ENC\")\n",
    "        print(i^e % p) #Enc\n",
    "        print(\"DEC\")\n",
    "        print(i^d %p) # Dec\n",
    "expo_cif([18800], 61, 37813)"
   ]
  },
  {
   "cell_type": "code",
   "execution_count": 9,
   "id": "dc8fb2c0-e9cc-4bfb-8fa3-cef253bb706b",
   "metadata": {},
   "outputs": [
    {
     "data": {
      "text/plain": [
       "3856"
      ]
     },
     "execution_count": 9,
     "metadata": {},
     "output_type": "execute_result"
    }
   ],
   "source": [
    "3618^19 % 3911"
   ]
  },
  {
   "cell_type": "code",
   "execution_count": 27,
   "id": "f22dcc18-1684-4061-bd8a-281762a0d214",
   "metadata": {},
   "outputs": [
    {
     "data": {
      "text/plain": [
       "14257"
      ]
     },
     "execution_count": 27,
     "metadata": {},
     "output_type": "execute_result"
    }
   ],
   "source": [
    "mod(1/61, 37812.0)"
   ]
  },
  {
   "cell_type": "code",
   "execution_count": 69,
   "id": "cb308ad5-0086-42b1-9d50-47b14968a883",
   "metadata": {},
   "outputs": [
    {
     "name": "stdout",
     "output_type": "stream",
     "text": [
      "[1, 1, 0, 1, 0, 1, 0, 1, 0, 1, 0, 1, 0, 1, 0, 1]\n"
     ]
    }
   ],
   "source": [
    "digits = 15\n",
    "coeff=[1,0,1]\n",
    "init = [1,1,0]\n",
    "\n",
    "leng=len(init)\n",
    "for n in range(leng, digits+1):\n",
    "    init.append(mod(n*coeff[-1]+ n-1*coeff[-2] + n-2*coeff[-3],2))\n",
    "\n",
    "print(init)"
   ]
  },
  {
   "cell_type": "code",
   "execution_count": 2,
   "id": "74c22156-a193-411a-9767-2c1ed3c8dfaa",
   "metadata": {},
   "outputs": [
    {
     "data": {
      "text/plain": [
       "29"
      ]
     },
     "execution_count": 2,
     "metadata": {},
     "output_type": "execute_result"
    }
   ],
   "source": [
    "1/17 % 82"
   ]
  },
  {
   "cell_type": "code",
   "execution_count": 5,
   "id": "5fb168de-e48b-4b4a-ab4b-25d0055f32f1",
   "metadata": {},
   "outputs": [
    {
     "data": {
      "text/plain": [
       "14"
      ]
     },
     "execution_count": 5,
     "metadata": {},
     "output_type": "execute_result"
    }
   ],
   "source": [
    "82-17*4"
   ]
  },
  {
   "cell_type": "code",
   "execution_count": 8,
   "id": "33b4d94d-646e-41fa-90e7-d1ca3ef9e2d7",
   "metadata": {},
   "outputs": [
    {
     "data": {
      "text/plain": [
       "5.00000000000000"
      ]
     },
     "execution_count": 8,
     "metadata": {},
     "output_type": "execute_result"
    }
   ],
   "source": [
    "190/38.0"
   ]
  },
  {
   "cell_type": "code",
   "execution_count": 1,
   "id": "8562a751-69b4-42a1-810d-64fb2071a2da",
   "metadata": {},
   "outputs": [
    {
     "name": "stdout",
     "output_type": "stream",
     "text": [
      "31\n",
      "2\n",
      "1\n",
      "0\n"
     ]
    }
   ],
   "source": [
    "def bad_gcd(first,sec):\n",
    "    res = 0\n",
    "    temp = 0\n",
    "    is_zero=False\n",
    "    while(not is_zero):\n",
    "        `\n",
    "        temp = first % sec\n",
    "        print(temp)\n",
    "        if temp != 0:\n",
    "            res = temp\n",
    "        else:\n",
    "            is_zero = True\n",
    "        first=sec\n",
    "        sec=temp\n",
    "bad_gcd(126,95)"
   ]
  },
  {
   "cell_type": "code",
   "execution_count": null,
   "id": "0d9117f1-1b4b-4c7c-9760-4d6e1aeebf32",
   "metadata": {},
   "outputs": [],
   "source": []
  }
 ],
 "metadata": {
  "kernelspec": {
   "display_name": "SageMath 10.5",
   "language": "sage",
   "name": "sagemath"
  },
  "language_info": {
   "codemirror_mode": {
    "name": "ipython",
    "version": 3
   },
   "file_extension": ".py",
   "mimetype": "text/x-python",
   "name": "python",
   "nbconvert_exporter": "python",
   "pygments_lexer": "ipython3",
   "version": "3.10.16"
  }
 },
 "nbformat": 4,
 "nbformat_minor": 5
}
